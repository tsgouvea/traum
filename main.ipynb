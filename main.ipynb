{
 "cells": [
  {
   "cell_type": "code",
   "execution_count": null,
   "metadata": {},
   "outputs": [],
   "source": [
    "fs = 30000\n",
    "#mdaFirings = readmda(os.path.join(path_ds,'neur',subj,sessName,nt,'firings.mda'))\n",
    "mdaCurated = readmda(os.path.join(path_ds,'neur',subj,sessName,nt,'firings.curated.mda'))\n",
    "#mdaTs = readmda(os.path.join(path_ds,'neur',subj,sessName,sessName + '.timestamps.mda'))"
   ]
  },
  {
   "cell_type": "code",
   "execution_count": null,
   "metadata": {},
   "outputs": [],
   "source": []
  },
  {
   "cell_type": "code",
   "execution_count": null,
   "metadata": {},
   "outputs": [],
   "source": [
    "chan = mdaCurated[0,:]\n",
    "samples = mdaCurated[1,:]\n",
    "clust = mdaCurated[2,:]\n",
    "spikes = samples/fs*1000000"
   ]
  },
  {
   "cell_type": "code",
   "execution_count": null,
   "metadata": {},
   "outputs": [],
   "source": [
    "spt.describe(samples)\n",
    "plt.hist(samples)\n",
    "samples"
   ]
  },
  {
   "cell_type": "code",
   "execution_count": null,
   "metadata": {},
   "outputs": [],
   "source": [
    "set(clust)"
   ]
  },
  {
   "cell_type": "code",
   "execution_count": null,
   "metadata": {},
   "outputs": [],
   "source": [
    "iUnit = 31\n",
    "ndxClust = clust == iUnit\n",
    "ts.shape"
   ]
  },
  {
   "cell_type": "code",
   "execution_count": null,
   "metadata": {},
   "outputs": [],
   "source": [
    "xSamp = np.ravel(samples[ndxClust])\n",
    "\n",
    "ndx = np.array([samples[ndxClust]],dtype=int)\n",
    "\n",
    "xTs = np.ravel(ts[ndx])"
   ]
  },
  {
   "cell_type": "code",
   "execution_count": null,
   "metadata": {},
   "outputs": [],
   "source": [
    "x = (xSamp[0:10] - xSamp[0])/fs\n",
    "y = (xTs[0:10]-xTs[0])/1000\n",
    "plt.scatter(x,y)"
   ]
  },
  {
   "cell_type": "code",
   "execution_count": null,
   "metadata": {},
   "outputs": [],
   "source": []
  },
  {
   "cell_type": "code",
   "execution_count": null,
   "metadata": {},
   "outputs": [],
   "source": [
    "plt.subplot(131)\n",
    "plt.scatter(xSamp,xTs)"
   ]
  },
  {
   "cell_type": "code",
   "execution_count": null,
   "metadata": {},
   "outputs": [],
   "source": [
    "plt.subplot(132)\n",
    "plt.hist(xSamp)"
   ]
  },
  {
   "cell_type": "code",
   "execution_count": null,
   "metadata": {},
   "outputs": [],
   "source": [
    "plt.subplot(133)\n",
    "plt.hist(xTs)"
   ]
  },
  {
   "cell_type": "code",
   "execution_count": null,
   "metadata": {},
   "outputs": [],
   "source": [
    "### Read sync pulses"
   ]
  },
  {
   "cell_type": "code",
   "execution_count": null,
   "metadata": {},
   "outputs": [],
   "source": [
    "os.path.join(path_ds,'neur',subj,sessName,'dio',sessName + '.dio_MCU_Din1.dat')"
   ]
  },
  {
   "cell_type": "code",
   "execution_count": null,
   "metadata": {},
   "outputs": [],
   "source": [
    "for i in range(1,7):\n",
    "    x = np.fromfile(os.path.join(path_ds,'neur',subj,sessName,'dio',sessName + '.dio_MCU_Din' + str(i) + '.dat'))\n",
    "    plt.plot(x)"
   ]
  },
  {
   "cell_type": "code",
   "execution_count": null,
   "metadata": {},
   "outputs": [],
   "source": [
    "x.shape"
   ]
  },
  {
   "cell_type": "code",
   "execution_count": null,
   "metadata": {},
   "outputs": [],
   "source": [
    "tsSync = np.fromfile(os.path.join(path_ds,'neur',subj,sessName,'dio',sessName + '.dio_MCU_Din1.dat'))\n",
    "plt.plot(tsSync)"
   ]
  },
  {
   "cell_type": "code",
   "execution_count": null,
   "metadata": {},
   "outputs": [],
   "source": [
    "plt.subplot(131), plt.hist(x[0,:])\n",
    "plt.subplot(132), plt.hist(x[1,:])\n",
    "plt.subplot(133), plt.hist(x[2,:])"
   ]
  },
  {
   "cell_type": "code",
   "execution_count": null,
   "metadata": {},
   "outputs": [],
   "source": [
    "z = x[0,:]\n",
    "plt.scatter(range(len(z)),z)"
   ]
  },
  {
   "cell_type": "code",
   "execution_count": null,
   "metadata": {},
   "outputs": [],
   "source": [
    "x.shape\n",
    "hf, ha = plt.subplots(1,np.ma.size(x,2),figsize=(15,9))\n",
    "for i in range(np.ma.size(x,2)):\n",
    "    y = x[:,:,i]\n",
    "    ha[i].plot(np.mean(y,0),color='xkcd:green',alpha=.2)\n",
    "    \n",
    "plt.tight_layout()"
   ]
  },
  {
   "cell_type": "code",
   "execution_count": null,
   "metadata": {},
   "outputs": [],
   "source": [
    "np.mean(y,0)"
   ]
  }
 ],
 "metadata": {
  "kernelspec": {
   "display_name": "Python [conda env:traum]",
   "language": "python",
   "name": "conda-env-traum-py"
  },
  "language_info": {
   "codemirror_mode": {
    "name": "ipython",
    "version": 2
   },
   "file_extension": ".py",
   "mimetype": "text/x-python",
   "name": "python",
   "nbconvert_exporter": "python",
   "pygments_lexer": "ipython2",
   "version": "2.7.14"
  }
 },
 "nbformat": 4,
 "nbformat_minor": 2
}
