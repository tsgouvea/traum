{
 "cells": [
  {
   "cell_type": "code",
   "execution_count": null,
   "metadata": {},
   "outputs": [],
   "source": [
    "import os\n",
    "import re\n",
    "import sys\n",
    "import pdb\n",
    "\n",
    "import numpy as np\n",
    "import matplotlib as mp\n",
    "import pandas as pd\n",
    "import scipy as sp\n",
    "import scipy.stats as spt\n",
    "import scipy.io as sio\n",
    "import matplotlib.pyplot as plt\n",
    "\n",
    "from tasks import dual2afc\n",
    "from traum import traum as tr\n",
    "#from traum.mdaio import readmda\n",
    "#from traum import readDIO\n",
    "#from traum.readTrodesExtractedDataFile import readTrodesExtractedDataFile as readdat\n",
    "\n",
    "print(sys.version)"
   ]
  },
  {
   "cell_type": "markdown",
   "metadata": {},
   "source": [
    "## Behavior"
   ]
  },
  {
   "cell_type": "code",
   "execution_count": 2,
   "metadata": {},
   "outputs": [],
   "source": [
    "subjName = 'M14'\n",
    "sessName = 'M14_20171117_175330'\n",
    "sessNameBpod = 'M14_Dual2AFC_Nov17_2017_Session1.mat'\n",
    "\n",
    "pathBhv = os.path.join('datasets/dual2afc_ds1/','bhv',subjName,sessNameBpod)\n",
    "dataBhv = dual2afc.parser(sio.loadmat(pathBhv, squeeze_me=True))"
   ]
  },
  {
   "cell_type": "code",
   "execution_count": 3,
   "metadata": {},
   "outputs": [],
   "source": [
    "obj = tr.traum(dataBhv)"
   ]
  },
  {
   "cell_type": "markdown",
   "metadata": {},
   "source": [
    "## Neural"
   ]
  },
  {
   "cell_type": "code",
   "execution_count": 4,
   "metadata": {},
   "outputs": [],
   "source": [
    "pathNeur = os.path.join('datasets/dual2afc_ds1/','neur',subjName,sessName)\n",
    "\n",
    "obj.readNeur(pathNeur)"
   ]
  },
  {
   "cell_type": "markdown",
   "metadata": {},
   "source": [
    "## Sync"
   ]
  },
  {
   "cell_type": "code",
   "execution_count": 5,
   "metadata": {},
   "outputs": [],
   "source": [
    "pathDIO = os.path.join('datasets/dual2afc_ds1/','neur',subjName,sessName,'dio')\n",
    "obj.readDio(pathDIO)\n",
    "\n",
    "obj.sync()"
   ]
  },
  {
   "cell_type": "markdown",
   "metadata": {},
   "source": [
    "## Traum"
   ]
  },
  {
   "cell_type": "code",
   "execution_count": 6,
   "metadata": {},
   "outputs": [],
   "source": [
    "obj.neur = obj.neur.append({'cluster': 0, 'dataset': 'water_', 'spikes': obj.dio['time'][(obj.dio['state']==20) | (obj.dio['state']==21)].values},ignore_index=True)\n",
    "\n",
    "\n",
    "reload(tr)\n",
    "self = obj"
   ]
  },
  {
   "cell_type": "code",
   "execution_count": 14,
   "metadata": {},
   "outputs": [],
   "source": [
    "def raspeth(self,alignment,iUnit,trialMask,panes,window=(-1,2),bins='rice',conv='None'):\n",
    "    ha_raster, ha_peth = panes\n",
    "    ndxType, colors = trialMask # ndxType {0, 1, 2, ...} is trial type, trials discarded where 0 // len(colors) = len(set(ndx[ndx>0]))\n",
    "    setType = list(set(ndxType[ndxType>0]))\n",
    "    offset = 0\n",
    "    listAlign = np.array(self.dio['time'][self.dio['state']==0]) + np.array(self.bhv.parsedData[alignment])\n",
    "    if type(bins)!=str:\n",
    "        bins = np.linspace(window[0],window[1],bins)\n",
    "    for iType in setType:\n",
    "        ndx = (ndxType == iType) & (np.logical_not(np.isnan(listAlign)))\n",
    "        if any(ndx):\n",
    "            spikes = [[]]*sum(ndx)\n",
    "            i = 0\n",
    "            for iTrial in np.nonzero(ndx)[0]:\n",
    "                temp = self.neur['spikes'][iUnit] - listAlign[iTrial]\n",
    "                spikes[i] = temp[(temp>=window[0]) & (temp<=window[1])]\n",
    "                i += 1\n",
    "\n",
    "            ha_raster.eventplot([[]]*offset + spikes,colors=colors[iType-1])\n",
    "            ha_raster.set_xlim(window)\n",
    "            offset += sum(ndx)\n",
    "\n",
    "            counts, edges = np.histogram([item for sublist in spikes for item in sublist], bins=bins, density=False)\n",
    "            #pdb.set_trace()\n",
    "            if (type(conv)!=str) :# or (conv != 'None') or (conv != 'none'):\n",
    "                counts = np.convolve(counts,conv,mode='same')\n",
    "            ha_peth.plot(edges[:-1]+(edges[1]-edges[0])/2,counts/(edges[1]-edges[0])/sum(ndx),color=colors[iType-1])"
   ]
  },
  {
   "cell_type": "code",
   "execution_count": 15,
   "metadata": {},
   "outputs": [
    {
     "data": {
      "image/png": "[encoded data removed]",
      "text/plain": [
       "<Figure size 432x288 with 2 Axes>"
      ]
     },
     "metadata": {},
     "output_type": "display_data"
    }
   ],
   "source": [
    "listAlign = ('tsCin','tsStimOn','tsStimOff','tsChoice','tsRwd','tsErrTone')\n",
    "alignment = listAlign[4]\n",
    "window=[-1,2]\n",
    "iUnit = 32\n",
    "fig, panes = plt.subplots(2,1)\n",
    "\n",
    "cho_ndxType = np.full(len(obj.bhv.parsedData),0)\n",
    "cho_ndxType[obj.bhv.parsedData['isChoiceLeft']] = 1\n",
    "cho_ndxType[obj.bhv.parsedData['isChoiceRight']] = 2\n",
    "cho_colors =['xkcd:golden yellow', 'xkcd:dark sky blue']\n",
    "cho_trialMask = (cho_ndxType, cho_colors)\n",
    "\n",
    "raspeth(obj,alignment,iUnit,cho_trialMask,panes,bins=51)\n",
    "#aligner = np.array(self.dio['time'][self.dio['state']==0]) + np.array(self.bhv.parsedData[alignment])"
   ]
  },
  {
   "cell_type": "code",
   "execution_count": null,
   "metadata": {},
   "outputs": [],
   "source": [
    "tsDio = obj.dio[obj.dio['state']==0]['time']\n",
    "tsBhv = obj.bhv.parsedData['tsState0']\n",
    "plt.scatter(np.diff(tsDio),np.diff(tsBhv))\n",
    "lim = (0,300)\n",
    "plt.xlim(lim)\n",
    "plt.ylim(lim)"
   ]
  },
  {
   "cell_type": "code",
   "execution_count": null,
   "metadata": {},
   "outputs": [],
   "source": [
    "syncs = pd.DataFrame({'tsDio': tsDio.values, 'tsBhv': tsBhv.values})\n",
    "syncs['Dio-Bhv']= syncs['tsDio']-syncs['tsBhv']\n",
    "syncs"
   ]
  },
  {
   "cell_type": "code",
   "execution_count": null,
   "metadata": {},
   "outputs": [],
   "source": [
    "import numpy as np\n",
    "import statsmodels.api as sm\n",
    "import statsmodels.formula.api as smf\n",
    "dat = sm.datasets.get_rdataset(\"Guerry\", \"HistData\").data\n",
    "results = smf.ols('Lottery ~ Literacy + np.log(Pop1831)', data=dat).fit()\n",
    "print(results.summary())"
   ]
  },
  {
   "cell_type": "code",
   "execution_count": null,
   "metadata": {},
   "outputs": [],
   "source": [
    "type(dat)"
   ]
  }
 ],
 "metadata": {
  "kernelspec": {
   "display_name": "Python [conda env:traum]",
   "language": "python",
   "name": "conda-env-traum-py"
  },
  "language_info": {
   "codemirror_mode": {
    "name": "ipython",
    "version": 2
   },
   "file_extension": ".py",
   "mimetype": "text/x-python",
   "name": "python",
   "nbconvert_exporter": "python",
   "pygments_lexer": "ipython2",
   "version": "2.7.14"
  }
 },
 "nbformat": 4,
 "nbformat_minor": 2
}
