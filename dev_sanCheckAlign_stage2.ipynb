{
 "cells": [
  {
   "cell_type": "markdown",
   "metadata": {},
   "source": [
    "### There's a __[clear problem with alignment](http://localhost:8888/notebooks/dev_sanityCheckAlignments.ipynb)__. Here, compare full list of state transitions on Bpod vs TrodesDIO. Regress them against each other and look at shape of residuals as function of session time."
   ]
  },
  {
   "cell_type": "code",
   "execution_count": 1,
   "metadata": {},
   "outputs": [
    {
     "name": "stdout",
     "output_type": "stream",
     "text": [
      "2.7.14 |Anaconda, Inc.| (default, Mar 27 2018, 12:28:59) \n",
      "[GCC 4.2.1 Compatible Clang 4.0.1 (tags/RELEASE_401/final)]\n"
     ]
    }
   ],
   "source": [
    "import os\n",
    "import re\n",
    "import sys\n",
    "import pdb\n",
    "\n",
    "import numpy as np\n",
    "import matplotlib as mp\n",
    "import pandas as pd\n",
    "import scipy as sp\n",
    "import scipy.stats as spt\n",
    "import scipy.io as sio\n",
    "import matplotlib.pyplot as plt\n",
    "\n",
    "from tasks import dual2afc\n",
    "from traum import traum as tr\n",
    "#from traum.mdaio import readmda\n",
    "#from traum import readDIO\n",
    "#from traum.readTrodesExtractedDataFile import readTrodesExtractedDataFile as readdat\n",
    "\n",
    "print(sys.version)"
   ]
  },
  {
   "cell_type": "markdown",
   "metadata": {},
   "source": [
    "## Behavior"
   ]
  },
  {
   "cell_type": "code",
   "execution_count": 2,
   "metadata": {},
   "outputs": [],
   "source": [
    "subjName = 'M14'\n",
    "sessName = 'M14_20171117_175330'\n",
    "sessNameBpod = 'M14_Dual2AFC_Nov17_2017_Session1.mat'\n",
    "\n",
    "pathBhv = os.path.join('datasets/dual2afc_ds1/','bhv',subjName,sessNameBpod)\n",
    "dataBhv = dual2afc.parser(sio.loadmat(pathBhv, squeeze_me=True))"
   ]
  },
  {
   "cell_type": "code",
   "execution_count": 3,
   "metadata": {},
   "outputs": [
    {
     "data": {
      "text/plain": [
       "417"
      ]
     },
     "execution_count": 3,
     "metadata": {},
     "output_type": "execute_result"
    }
   ],
   "source": [
    "len(dataBhv.bpod['RawData'].item()['OriginalStateTimestamps'].item())"
   ]
  },
  {
   "cell_type": "code",
   "execution_count": null,
   "metadata": {},
   "outputs": [],
   "source": [
    "iTrial = 10\n",
    "listStates = dataBhv.bpod['RawData'].item()['OriginalStateNamesByNumber'].item()[iTrial]\n",
    "stateTrajNum = dataBhv.bpod['RawData'].item()['OriginalStateData'].item()[iTrial]\n",
    "stateTraj = listStates[stateTrajNum-1]"
   ]
  },
  {
   "cell_type": "code",
   "execution_count": null,
   "metadata": {},
   "outputs": [],
   "source": [
    "tsBhv = []\n",
    "for iTrial in range(len(dataBhv.bpod['RawData'].item()['OriginalStateTimestamps'].item())):\n",
    "     tsBhv.append()"
   ]
  },
  {
   "cell_type": "code",
   "execution_count": 5,
   "metadata": {},
   "outputs": [
    {
     "data": {
      "text/plain": [
       "array([0.    , 1.7512, 2.0867, 2.2867, 2.3328, 2.7535, 2.7536, 2.7537,\n",
       "       2.9257, 3.0014, 3.258 , 3.3479, 3.5427, 3.6287, 3.7535, 3.8475])"
      ]
     },
     "execution_count": 5,
     "metadata": {},
     "output_type": "execute_result"
    }
   ],
   "source": [
    "iTrial = 10\n",
    "dataBhv.bpod['RawData'].item()['OriginalStateTimestamps'].item()[iTrial][:-1]"
   ]
  },
  {
   "cell_type": "code",
   "execution_count": null,
   "metadata": {},
   "outputs": [],
   "source": [
    "stateTrajTs = dataBhv.bpod['RawData'].item()['OriginalStateTimestamps'].item()[iTrial][:-1]\n",
    "ndx = [n.startswith('water_') for n in stateTraj]\n",
    "stateTrajTs[ndx]"
   ]
  },
  {
   "cell_type": "code",
   "execution_count": null,
   "metadata": {},
   "outputs": [],
   "source": [
    "dataBhv.bpod['RawData'].item()['OriginalStateTimestamps'].item()[iTrial][:-1][[n.startswith('water_') for n in stateTraj]][0]"
   ]
  },
  {
   "cell_type": "code",
   "execution_count": null,
   "metadata": {},
   "outputs": [],
   "source": [
    "len(dataBhv.bpod['RawData'].item()['OriginalStateTimestamps'].item()[iTrial])"
   ]
  },
  {
   "cell_type": "code",
   "execution_count": null,
   "metadata": {},
   "outputs": [],
   "source": [
    "stateTrajTs"
   ]
  },
  {
   "cell_type": "code",
   "execution_count": null,
   "metadata": {},
   "outputs": [],
   "source": [
    "for i in range(len(stateTrajTs)):\n",
    "    print(stateTrajNum[i],stateTraj[i],stateTrajTs[i])"
   ]
  },
  {
   "cell_type": "code",
   "execution_count": null,
   "metadata": {},
   "outputs": [],
   "source": [
    "stateTraj"
   ]
  },
  {
   "cell_type": "code",
   "execution_count": null,
   "metadata": {},
   "outputs": [],
   "source": [
    "i"
   ]
  },
  {
   "cell_type": "code",
   "execution_count": null,
   "metadata": {},
   "outputs": [],
   "source": []
  },
  {
   "cell_type": "code",
   "execution_count": null,
   "metadata": {},
   "outputs": [],
   "source": []
  },
  {
   "cell_type": "code",
   "execution_count": null,
   "metadata": {},
   "outputs": [],
   "source": []
  },
  {
   "cell_type": "code",
   "execution_count": null,
   "metadata": {},
   "outputs": [],
   "source": [
    "obj = tr.traum(dataBhv)"
   ]
  },
  {
   "cell_type": "markdown",
   "metadata": {},
   "source": [
    "## Read DIO"
   ]
  },
  {
   "cell_type": "code",
   "execution_count": null,
   "metadata": {},
   "outputs": [],
   "source": [
    "pathDIO = os.path.join('datasets/dual2afc_ds1/','neur',subjName,sessName,'dio')\n",
    "obj.readDio(pathDIO)"
   ]
  },
  {
   "cell_type": "code",
   "execution_count": null,
   "metadata": {},
   "outputs": [],
   "source": []
  },
  {
   "cell_type": "code",
   "execution_count": null,
   "metadata": {},
   "outputs": [],
   "source": []
  },
  {
   "cell_type": "code",
   "execution_count": null,
   "metadata": {},
   "outputs": [],
   "source": [
    "def trim(lon,sho):\n",
    "    delta = len(lon)-len(sho)\n",
    "    rhos = np.full(delta+1,np.nan)\n",
    "    for i in range(len(rhos)):\n",
    "        rhos[i] = np.corrcoef(np.diff(sho),np.diff(lon[i:len(sho)+i]))[0,1]\n",
    "    assert(np.max(rhos)>.99)\n",
    "    return(np.argmax(rhos), delta, rhos)"
   ]
  },
  {
   "cell_type": "code",
   "execution_count": null,
   "metadata": {},
   "outputs": [],
   "source": []
  },
  {
   "cell_type": "markdown",
   "metadata": {},
   "source": [
    "## Compute full lists of state transitions from Bpod"
   ]
  },
  {
   "cell_type": "code",
   "execution_count": null,
   "metadata": {},
   "outputs": [],
   "source": [
    "obj.bhv.bpod[]"
   ]
  },
  {
   "cell_type": "code",
   "execution_count": null,
   "metadata": {},
   "outputs": [],
   "source": [
    "obj.bhv.bpod"
   ]
  },
  {
   "cell_type": "markdown",
   "metadata": {},
   "source": [
    "## Regress them agains each other"
   ]
  },
  {
   "cell_type": "code",
   "execution_count": null,
   "metadata": {},
   "outputs": [],
   "source": [
    "import numpy as np\n",
    "import statsmodels.api as sm\n",
    "import statsmodels.formula.api as smf\n",
    "dat = sm.datasets.get_rdataset(\"Guerry\", \"HistData\").data\n",
    "results = smf.ols('Lottery ~ Literacy + np.log(Pop1831)', data=dat).fit()\n",
    "print(results.summary())"
   ]
  }
 ],
 "metadata": {
  "kernelspec": {
   "display_name": "Python [conda env:traum]",
   "language": "python",
   "name": "conda-env-traum-py"
  },
  "language_info": {
   "codemirror_mode": {
    "name": "ipython",
    "version": 2
   },
   "file_extension": ".py",
   "mimetype": "text/x-python",
   "name": "python",
   "nbconvert_exporter": "python",
   "pygments_lexer": "ipython2",
   "version": "2.7.14"
  }
 },
 "nbformat": 4,
 "nbformat_minor": 2
}
