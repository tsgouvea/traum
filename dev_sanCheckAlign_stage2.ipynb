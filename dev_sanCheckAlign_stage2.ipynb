{
 "cells": [
  {
   "cell_type": "markdown",
   "metadata": {},
   "source": [
    "### There's a __[clear problem with alignment](http://localhost:8888/notebooks/dev_sanityCheckAlignments.ipynb)__. Here, compare full list of state transitions on Bpod vs TrodesDIO. Regress them against each other and look at shape of residuals as function of session time."
   ]
  },
  {
   "cell_type": "code",
   "execution_count": 1,
   "metadata": {},
   "outputs": [
    {
     "name": "stdout",
     "output_type": "stream",
     "text": [
      "2.7.14 |Anaconda, Inc.| (default, Mar 27 2018, 12:28:59) \n",
      "[GCC 4.2.1 Compatible Clang 4.0.1 (tags/RELEASE_401/final)]\n"
     ]
    }
   ],
   "source": [
    "import os\n",
    "import re\n",
    "import sys\n",
    "import pdb\n",
    "\n",
    "import numpy as np\n",
    "import matplotlib as mp\n",
    "import pandas as pd\n",
    "import scipy as sp\n",
    "import scipy.stats as spt\n",
    "import scipy.io as sio\n",
    "import matplotlib.pyplot as plt\n",
    "\n",
    "from tasks import dual2afc\n",
    "from traum import traum as tr\n",
    "#from traum.mdaio import readmda\n",
    "#from traum import readDIO\n",
    "#from traum.readTrodesExtractedDataFile import readTrodesExtractedDataFile as readdat\n",
    "\n",
    "print(sys.version)"
   ]
  },
  {
   "cell_type": "markdown",
   "metadata": {},
   "source": [
    "## Behavior"
   ]
  },
  {
   "cell_type": "code",
   "execution_count": 2,
   "metadata": {},
   "outputs": [],
   "source": [
    "subjName = 'M14'\n",
    "sessName = 'M14_20171117_175330'\n",
    "sessNameBpod = 'M14_Dual2AFC_Nov17_2017_Session1.mat'\n",
    "\n",
    "pathBhv = os.path.join('datasets/dual2afc_ds1/','bhv',subjName,sessNameBpod)\n",
    "dataBhv = dual2afc.parser(sio.loadmat(pathBhv, squeeze_me=True))"
   ]
  },
  {
   "cell_type": "code",
   "execution_count": 3,
   "metadata": {},
   "outputs": [],
   "source": [
    "obj = tr.traum(dataBhv)"
   ]
  },
  {
   "cell_type": "markdown",
   "metadata": {},
   "source": [
    "## Read DIO"
   ]
  },
  {
   "cell_type": "code",
   "execution_count": null,
   "metadata": {},
   "outputs": [],
   "source": [
    "pathDIO = os.path.join('datasets/dual2afc_ds1/','neur',subjName,sessName,'dio')\n",
    "obj.readDio(pathDIO)"
   ]
  },
  {
   "cell_type": "code",
   "execution_count": null,
   "metadata": {},
   "outputs": [],
   "source": []
  },
  {
   "cell_type": "code",
   "execution_count": null,
   "metadata": {},
   "outputs": [],
   "source": []
  },
  {
   "cell_type": "code",
   "execution_count": 7,
   "metadata": {},
   "outputs": [],
   "source": [
    "def trim(lon,sho):\n",
    "    delta = len(lon)-len(sho)\n",
    "    rhos = np.full(delta+1,np.nan)\n",
    "    for i in range(len(rhos)):\n",
    "        rhos[i] = np.corrcoef(np.diff(sho),np.diff(lon[i:len(sho)+i]))[0,1]\n",
    "    assert(np.max(rhos)>.99)\n",
    "    return(np.argmax(rhos), delta, rhos)"
   ]
  },
  {
   "cell_type": "code",
   "execution_count": null,
   "metadata": {},
   "outputs": [],
   "source": []
  },
  {
   "cell_type": "markdown",
   "metadata": {},
   "source": [
    "## Compute full lists of state transitions from Bpod"
   ]
  },
  {
   "cell_type": "code",
   "execution_count": 14,
   "metadata": {},
   "outputs": [
    {
     "data": {
      "text/plain": [
       "5813"
      ]
     },
     "execution_count": 14,
     "metadata": {},
     "output_type": "execute_result"
    }
   ],
   "source": [
    "obj.bhv.bpod[]"
   ]
  },
  {
   "cell_type": "code",
   "execution_count": 12,
   "metadata": {},
   "outputs": [
    {
     "data": {
      "text/plain": [
       "['tsChoice',\n",
       " 'tsCin',\n",
       " 'tsErrTone',\n",
       " 'tsPokeC',\n",
       " 'tsPokeL',\n",
       " 'tsPokeR',\n",
       " 'tsRwd',\n",
       " 'tsStimOff',\n",
       " 'tsStimOn']"
      ]
     },
     "execution_count": 12,
     "metadata": {},
     "output_type": "execute_result"
    }
   ],
   "source": [
    "obj.bhv.bpod"
   ]
  },
  {
   "cell_type": "markdown",
   "metadata": {},
   "source": [
    "## Regress them agains each other"
   ]
  },
  {
   "cell_type": "code",
   "execution_count": null,
   "metadata": {},
   "outputs": [],
   "source": [
    "import numpy as np\n",
    "import statsmodels.api as sm\n",
    "import statsmodels.formula.api as smf\n",
    "dat = sm.datasets.get_rdataset(\"Guerry\", \"HistData\").data\n",
    "results = smf.ols('Lottery ~ Literacy + np.log(Pop1831)', data=dat).fit()\n",
    "print(results.summary())"
   ]
  }
 ],
 "metadata": {
  "kernelspec": {
   "display_name": "Python [conda env:traum]",
   "language": "python",
   "name": "conda-env-traum-py"
  },
  "language_info": {
   "codemirror_mode": {
    "name": "ipython",
    "version": 2
   },
   "file_extension": ".py",
   "mimetype": "text/x-python",
   "name": "python",
   "nbconvert_exporter": "python",
   "pygments_lexer": "ipython2",
   "version": "2.7.14"
  }
 },
 "nbformat": 4,
 "nbformat_minor": 2
}
