{
 "cells": [
  {
   "cell_type": "code",
   "execution_count": 19,
   "metadata": {},
   "outputs": [],
   "source": [
    "import os\n",
    "import re\n",
    "\n",
    "import numpy as np\n",
    "import matplotlib as mp\n",
    "import scipy as sp\n",
    "import scipy.stats as spt\n",
    "import scipy.io as sio\n",
    "import matplotlib.pyplot as plt"
   ]
  },
  {
   "cell_type": "code",
   "execution_count": 20,
   "metadata": {},
   "outputs": [],
   "source": [
    "from tasks import dual2afc\n"
   ]
  },
  {
   "cell_type": "markdown",
   "metadata": {},
   "source": [
    "## Behavior"
   ]
  },
  {
   "cell_type": "code",
   "execution_count": 21,
   "metadata": {},
   "outputs": [],
   "source": [
    "path_ds = 'datasets/dual2afc_ds1/'\n",
    "listSubj = next(os.walk(path_ds + 'bhv'))[1]\n",
    "listSubj.sort()\n",
    "iSubj = 0\n",
    "subj = listSubj[iSubj]\n",
    "\n",
    "listSess = os.listdir(os.path.join(path_ds,'bhv',subj))\n",
    "listSess.sort()\n",
    "iSess = 0\n",
    "sessName = listSess[iSess]\n",
    "fname = os.path.join(path_ds,'bhv',subj,sessName)\n",
    "fname\n",
    "\n",
    "mysess = sio.loadmat(fname, squeeze_me=True)\n",
    "\n",
    "dataBhv = dual2afc.parser(mysess)\n",
    "\n",
    "listSess = os.listdir(os.path.join(path_ds,'neur',subj))\n",
    "listSess.sort()\n",
    "iSess = 0\n",
    "sessName = listSess[iSess]"
   ]
  },
  {
   "cell_type": "markdown",
   "metadata": {},
   "source": [
    "## Neural"
   ]
  },
  {
   "cell_type": "code",
   "execution_count": 22,
   "metadata": {},
   "outputs": [
    {
     "data": {
      "text/plain": [
       "'.DS_Store'"
      ]
     },
     "execution_count": 22,
     "metadata": {},
     "output_type": "execute_result"
    }
   ],
   "source": [
    "sessName = os.listdir(os.path.join(path_ds,'neur',subj))\n",
    "sessName = sessName[0]\n",
    "sessName"
   ]
  },
  {
   "cell_type": "code",
   "execution_count": 23,
   "metadata": {},
   "outputs": [
    {
     "ename": "NotADirectoryError",
     "evalue": "[Errno 20] Not a directory: 'datasets/dual2afc_ds1/neur/M14/.DS_Store'",
     "output_type": "error",
     "traceback": [
      "\u001b[0;31m---------------------------------------------------------------------------\u001b[0m",
      "\u001b[0;31mNotADirectoryError\u001b[0m                        Traceback (most recent call last)",
      "\u001b[0;32m<ipython-input-23-ace0b39efc05>\u001b[0m in \u001b[0;36m<module>\u001b[0;34m()\u001b[0m\n\u001b[0;32m----> 1\u001b[0;31m \u001b[0mlistNt\u001b[0m \u001b[0;34m=\u001b[0m \u001b[0mnp\u001b[0m\u001b[0;34m.\u001b[0m\u001b[0marray\u001b[0m\u001b[0;34m(\u001b[0m\u001b[0mos\u001b[0m\u001b[0;34m.\u001b[0m\u001b[0mlistdir\u001b[0m\u001b[0;34m(\u001b[0m\u001b[0mos\u001b[0m\u001b[0;34m.\u001b[0m\u001b[0mpath\u001b[0m\u001b[0;34m.\u001b[0m\u001b[0mjoin\u001b[0m\u001b[0;34m(\u001b[0m\u001b[0mpath_ds\u001b[0m\u001b[0;34m,\u001b[0m\u001b[0;34m'neur'\u001b[0m\u001b[0;34m,\u001b[0m\u001b[0msubj\u001b[0m\u001b[0;34m,\u001b[0m\u001b[0msessName\u001b[0m\u001b[0;34m)\u001b[0m\u001b[0;34m)\u001b[0m\u001b[0;34m)\u001b[0m\u001b[0;34m\u001b[0m\u001b[0m\n\u001b[0m\u001b[1;32m      2\u001b[0m \u001b[0mlistNt\u001b[0m \u001b[0;34m=\u001b[0m \u001b[0mlistNt\u001b[0m\u001b[0;34m[\u001b[0m\u001b[0;34m[\u001b[0m\u001b[0mn\u001b[0m\u001b[0;34m.\u001b[0m\u001b[0mstartswith\u001b[0m\u001b[0;34m(\u001b[0m\u001b[0;34m'ms3'\u001b[0m\u001b[0;34m)\u001b[0m \u001b[0;32mfor\u001b[0m \u001b[0mn\u001b[0m \u001b[0;32min\u001b[0m \u001b[0mlistNt\u001b[0m\u001b[0;34m]\u001b[0m\u001b[0;34m]\u001b[0m\u001b[0;34m\u001b[0m\u001b[0m\n\u001b[1;32m      3\u001b[0m \u001b[0mlistNt\u001b[0m\u001b[0;34m\u001b[0m\u001b[0m\n\u001b[1;32m      4\u001b[0m \u001b[0miNt\u001b[0m \u001b[0;34m=\u001b[0m \u001b[0;36m1\u001b[0m\u001b[0;34m\u001b[0m\u001b[0m\n\u001b[1;32m      5\u001b[0m \u001b[0mnt\u001b[0m \u001b[0;34m=\u001b[0m \u001b[0mlistNt\u001b[0m\u001b[0;34m[\u001b[0m\u001b[0miNt\u001b[0m\u001b[0;34m]\u001b[0m\u001b[0;34m\u001b[0m\u001b[0m\n",
      "\u001b[0;31mNotADirectoryError\u001b[0m: [Errno 20] Not a directory: 'datasets/dual2afc_ds1/neur/M14/.DS_Store'"
     ]
    }
   ],
   "source": [
    "listNt = np.array(os.listdir(os.path.join(path_ds,'neur',subj,sessName)))\n",
    "listNt = listNt[[n.startswith('ms3') for n in listNt]]\n",
    "listNt\n",
    "iNt = 1\n",
    "nt = listNt[iNt]"
   ]
  },
  {
   "cell_type": "markdown",
   "metadata": {},
   "source": [
    "### readTrodesExtractedDataFile"
   ]
  },
  {
   "cell_type": "code",
   "execution_count": 37,
   "metadata": {},
   "outputs": [],
   "source": [
    "def parseFields(fieldstr):\n",
    "    # Returns np.dtype from field string\n",
    "    sep = re.split('\\s', re.sub(r\"\\>\\<|\\>|\\<\", ' ', fieldstr).strip())\n",
    "    # print(sep)\n",
    "    typearr = []\n",
    "    # Every two elmts is fieldname followed by datatype\n",
    "    for i in range(0,sep.__len__(), 2):\n",
    "        fieldname = sep[i]\n",
    "        repeats = 1\n",
    "        ftype = 'uint32'\n",
    "\n",
    "        # Finds if a <num>* is included in datatype\n",
    "        if sep[i+1].__contains__('*'):\n",
    "            temptypes = re.split('\\*', sep[i+1])\n",
    "\n",
    "            # Results in the correct assignment, whether str is num*dtype or dtype*num\n",
    "            ftype = temptypes[temptypes[0].isdigit()]\n",
    "            repeats = int(temptypes[temptypes[1].isdigit()])\n",
    "        else:\n",
    "            ftype = sep[i+1]\n",
    "\n",
    "        try:\n",
    "            fieldtype = getattr(np, ftype)\n",
    "        except AttributeError:\n",
    "            print((ftype + \" is not a valid field type.\\n\"))\n",
    "            exit(1)\n",
    "        else:\n",
    "            typearr.append((str(fieldname), fieldtype, repeats))\n",
    "#    return typearr\n",
    "    return np.dtype(typearr)"
   ]
  },
  {
   "cell_type": "code",
   "execution_count": 7,
   "metadata": {},
   "outputs": [
    {
     "data": {
      "text/plain": [
       "'datasets/dual2afc_ds1/neur/M14/M14_20171117_175330/dio/M14_20171117_175330.dio_MCU_Din1.dat'"
      ]
     },
     "execution_count": 7,
     "metadata": {},
     "output_type": "execute_result"
    }
   ],
   "source": [
    "pathDIO = os.path.join(path_ds,'neur',subj,sessName,'dio')\n",
    "\n",
    "listDio = os.listdir(pathDIO)\n",
    "listDio.sort()\n",
    "\n",
    "filename = os.path.join(pathDIO,listDio[0])\n",
    "filename"
   ]
  },
  {
   "cell_type": "code",
   "execution_count": 38,
   "metadata": {},
   "outputs": [
    {
     "ename": "AttributeError",
     "evalue": "'str' object has no attribute '__buffer__'",
     "output_type": "error",
     "traceback": [
      "\u001b[0;31m---------------------------------------------------------------------------\u001b[0m",
      "\u001b[0;31mAttributeError\u001b[0m                            Traceback (most recent call last)",
      "\u001b[0;32m<ipython-input-38-b2ecda8361f1>\u001b[0m in \u001b[0;36m<module>\u001b[0;34m()\u001b[0m\n\u001b[1;32m     34\u001b[0m     \u001b[0;31m# Reads rest of file at once, using dtype format generated by parseFields()\u001b[0m\u001b[0;34m\u001b[0m\u001b[0;34m\u001b[0m\u001b[0m\n\u001b[1;32m     35\u001b[0m     \u001b[0;31m# dt = parseFields(fieldsText['fields'])\u001b[0m\u001b[0;34m\u001b[0m\u001b[0;34m\u001b[0m\u001b[0m\n\u001b[0;32m---> 36\u001b[0;31m     \u001b[0mdata\u001b[0m \u001b[0;34m=\u001b[0m \u001b[0mnp\u001b[0m\u001b[0;34m.\u001b[0m\u001b[0mfrombuffer\u001b[0m\u001b[0;34m(\u001b[0m\u001b[0mbuffer\u001b[0m\u001b[0;34m=\u001b[0m\u001b[0mbuff\u001b[0m\u001b[0;34m,\u001b[0m \u001b[0mdtype\u001b[0m\u001b[0;34m=\u001b[0m\u001b[0mdt\u001b[0m\u001b[0;34m,\u001b[0m \u001b[0mcount\u001b[0m\u001b[0;34m=\u001b[0m\u001b[0mint\u001b[0m\u001b[0;34m(\u001b[0m\u001b[0mround\u001b[0m\u001b[0;34m(\u001b[0m\u001b[0mc\u001b[0m\u001b[0;34m)\u001b[0m\u001b[0;34m)\u001b[0m\u001b[0;34m)\u001b[0m\u001b[0;34m\u001b[0m\u001b[0m\n\u001b[0m\u001b[1;32m     37\u001b[0m     \u001b[0mfieldsText\u001b[0m\u001b[0;34m.\u001b[0m\u001b[0mupdate\u001b[0m\u001b[0;34m(\u001b[0m\u001b[0;34m{\u001b[0m\u001b[0;34m'data'\u001b[0m\u001b[0;34m:\u001b[0m \u001b[0mdata\u001b[0m\u001b[0;34m}\u001b[0m\u001b[0;34m)\u001b[0m\u001b[0;34m\u001b[0m\u001b[0m\n\u001b[1;32m     38\u001b[0m     \u001b[0;31m# fieldsText.update({'data': np.delete(fieldsText['data'], 0, axis = 0)})\u001b[0m\u001b[0;34m\u001b[0m\u001b[0;34m\u001b[0m\u001b[0m\n",
      "\u001b[0;31mAttributeError\u001b[0m: 'str' object has no attribute '__buffer__'"
     ]
    }
   ],
   "source": [
    "with open(filename, 'rb') as f:\n",
    "    # Check if first line is start of settings block\n",
    "    if f.readline().decode('ascii').strip() != '<Start settings>':\n",
    "        raise Exception(\"Settings format not supported\")\n",
    "    buff = ''\n",
    "    c = 0.0\n",
    "    fields = True\n",
    "    fieldsText = {}\n",
    "    for line in f:\n",
    "        # Read through block of settings\n",
    "        if(fields):\n",
    "            line = line.decode('ascii').strip()\n",
    "\n",
    "            # filling in fields dict\n",
    "            if line != '<End settings>':\n",
    "                vals = line.split(': ')\n",
    "                fieldsText.update({vals[0].lower(): vals[1]})\n",
    "\n",
    "            # End of settings block, signal end of fields\n",
    "            else:\n",
    "                fields = False\n",
    "                dt = parseFields(fieldsText['fields'])\n",
    "                fieldsText['data'] = np.zeros([1], dtype = dt)\n",
    "\n",
    "        else:\n",
    "            # Holds the data in next line\n",
    "            dat = str(line)\n",
    "            buff += dat\n",
    "            c += float(len(dat)) / float(dt.itemsize)\n",
    "            # data = np.frombuffer(buffer=dat, dtype=dt, count=c)\n",
    "            # merged = np.concatenate([fieldsText['data'], data])\n",
    "            # fieldsText.update({'data': merged})\n",
    "\n",
    "    # Reads rest of file at once, using dtype format generated by parseFields()\n",
    "    # dt = parseFields(fieldsText['fields'])\n",
    "    data = np.frombuffer(buffer=buff, dtype=dt, count=int(round(c)))\n",
    "    fieldsText.update({'data': data})\n",
    "    # fieldsText.update({'data': np.delete(fieldsText['data'], 0, axis = 0)})\n",
    "    print(fieldsText)"
   ]
  },
  {
   "cell_type": "code",
   "execution_count": null,
   "metadata": {},
   "outputs": [],
   "source": []
  },
  {
   "cell_type": "code",
   "execution_count": 18,
   "metadata": {},
   "outputs": [],
   "source": [
    "x1 = fieldsText['fields']\n",
    "x2 = parseFields(x1)\n",
    "x3 = np.dtype(x2)"
   ]
  },
  {
   "cell_type": "code",
   "execution_count": 30,
   "metadata": {},
   "outputs": [
    {
     "data": {
      "text/plain": [
       "[('time', numpy.uint32, 1), ('state', numpy.uint8, 1)]"
      ]
     },
     "execution_count": 30,
     "metadata": {},
     "output_type": "execute_result"
    }
   ],
   "source": [
    "x2"
   ]
  },
  {
   "cell_type": "code",
   "execution_count": 32,
   "metadata": {},
   "outputs": [
    {
     "data": {
      "text/plain": [
       "dtype([('time', '<u4'), ('state', 'u1')])"
      ]
     },
     "execution_count": 32,
     "metadata": {},
     "output_type": "execute_result"
    }
   ],
   "source": [
    "np.dtype([('time', np.uint32, 1), ('state', np.uint8, 1)])"
   ]
  },
  {
   "cell_type": "code",
   "execution_count": 27,
   "metadata": {},
   "outputs": [
    {
     "ename": "TypeError",
     "evalue": "must be str, not bytes",
     "output_type": "error",
     "traceback": [
      "\u001b[0;31m---------------------------------------------------------------------------\u001b[0m",
      "\u001b[0;31mTypeError\u001b[0m                                 Traceback (most recent call last)",
      "\u001b[0;32m<ipython-input-27-e4258647fd35>\u001b[0m in \u001b[0;36m<module>\u001b[0;34m()\u001b[0m\n\u001b[0;32m----> 1\u001b[0;31m \u001b[0mbuff\u001b[0m \u001b[0;34m+=\u001b[0m \u001b[0mdat\u001b[0m\u001b[0;34m\u001b[0m\u001b[0m\n\u001b[0m",
      "\u001b[0;31mTypeError\u001b[0m: must be str, not bytes"
     ]
    }
   ],
   "source": [
    "buff += dat"
   ]
  },
  {
   "cell_type": "markdown",
   "metadata": {
    "collapsed": true
   },
   "source": [
    "### numpy read dat (not Trodes)"
   ]
  },
  {
   "cell_type": "code",
   "execution_count": null,
   "metadata": {},
   "outputs": [],
   "source": [
    "pathDIO = os.path.join(path_ds,'neur',subj,sessName,'dio')\n",
    "\n",
    "listDio = os.listdir(pathDIO)\n",
    "listDio.sort()\n",
    "\n",
    "filename = os.path.join(pathDIO,listDio[0])\n",
    "filename"
   ]
  },
  {
   "cell_type": "code",
   "execution_count": 12,
   "metadata": {},
   "outputs": [
    {
     "ename": "SyntaxError",
     "evalue": "invalid syntax (<ipython-input-12-719576109e5a>, line 1)",
     "output_type": "error",
     "traceback": [
      "\u001b[0;36m  File \u001b[0;32m\"<ipython-input-12-719576109e5a>\"\u001b[0;36m, line \u001b[0;32m1\u001b[0m\n\u001b[0;31m    mock_np = np.dtype([('time', <class 'numpy.uint32'>, 1), ('state', <class 'numpy.uint8'>, 1)])\u001b[0m\n\u001b[0m                                 ^\u001b[0m\n\u001b[0;31mSyntaxError\u001b[0m\u001b[0;31m:\u001b[0m invalid syntax\n"
     ]
    }
   ],
   "source": [
    "mock_np = np.dtype([('time', <class 'numpy.uint32'>, 1), ('state', <class 'numpy.uint8'>, 1)])"
   ]
  },
  {
   "cell_type": "code",
   "execution_count": null,
   "metadata": {},
   "outputs": [],
   "source": [
    "x = np.fromfile(filename)\n",
    "print(filename)\n",
    "x.shape"
   ]
  },
  {
   "cell_type": "code",
   "execution_count": null,
   "metadata": {},
   "outputs": [],
   "source": [
    "x"
   ]
  },
  {
   "cell_type": "markdown",
   "metadata": {},
   "source": [
    "### Read spike data"
   ]
  },
  {
   "cell_type": "code",
   "execution_count": null,
   "metadata": {},
   "outputs": [],
   "source": [
    "fs = 30000\n",
    "#mdaFirings = readmda(os.path.join(path_ds,'neur',subj,sessName,nt,'firings.mda'))\n",
    "mdaCurated = readmda(os.path.join(path_ds,'neur',subj,sessName,nt,'firings.curated.mda'))\n",
    "#mdaTs = readmda(os.path.join(path_ds,'neur',subj,sessName,sessName + '.timestamps.mda'))"
   ]
  },
  {
   "cell_type": "code",
   "execution_count": null,
   "metadata": {},
   "outputs": [],
   "source": []
  },
  {
   "cell_type": "code",
   "execution_count": null,
   "metadata": {},
   "outputs": [],
   "source": []
  },
  {
   "cell_type": "code",
   "execution_count": null,
   "metadata": {},
   "outputs": [],
   "source": []
  },
  {
   "cell_type": "code",
   "execution_count": null,
   "metadata": {},
   "outputs": [],
   "source": []
  },
  {
   "cell_type": "code",
   "execution_count": null,
   "metadata": {},
   "outputs": [],
   "source": []
  },
  {
   "cell_type": "code",
   "execution_count": null,
   "metadata": {},
   "outputs": [],
   "source": []
  },
  {
   "cell_type": "code",
   "execution_count": null,
   "metadata": {},
   "outputs": [],
   "source": [
    "chan = mdaCurated[0,:]\n",
    "samples = mdaCurated[1,:]\n",
    "clust = mdaCurated[2,:]\n",
    "spikes = samples/fs*1000000"
   ]
  },
  {
   "cell_type": "code",
   "execution_count": null,
   "metadata": {},
   "outputs": [],
   "source": [
    "spt.describe(samples)\n",
    "plt.hist(samples)\n",
    "samples"
   ]
  },
  {
   "cell_type": "code",
   "execution_count": null,
   "metadata": {},
   "outputs": [],
   "source": [
    "set(clust)"
   ]
  },
  {
   "cell_type": "code",
   "execution_count": null,
   "metadata": {},
   "outputs": [],
   "source": [
    "iUnit = 31\n",
    "ndxClust = clust == iUnit\n",
    "ts.shape"
   ]
  },
  {
   "cell_type": "code",
   "execution_count": null,
   "metadata": {},
   "outputs": [],
   "source": [
    "xSamp = np.ravel(samples[ndxClust])\n",
    "\n",
    "ndx = np.array([samples[ndxClust]],dtype=int)\n",
    "\n",
    "xTs = np.ravel(ts[ndx])"
   ]
  },
  {
   "cell_type": "code",
   "execution_count": null,
   "metadata": {},
   "outputs": [],
   "source": [
    "x = (xSamp[0:10] - xSamp[0])/fs\n",
    "y = (xTs[0:10]-xTs[0])/1000\n",
    "plt.scatter(x,y)"
   ]
  },
  {
   "cell_type": "code",
   "execution_count": null,
   "metadata": {},
   "outputs": [],
   "source": []
  },
  {
   "cell_type": "code",
   "execution_count": null,
   "metadata": {},
   "outputs": [],
   "source": [
    "plt.subplot(131)\n",
    "plt.scatter(xSamp,xTs)"
   ]
  },
  {
   "cell_type": "code",
   "execution_count": null,
   "metadata": {},
   "outputs": [],
   "source": [
    "plt.subplot(132)\n",
    "plt.hist(xSamp)"
   ]
  },
  {
   "cell_type": "code",
   "execution_count": null,
   "metadata": {},
   "outputs": [],
   "source": [
    "plt.subplot(133)\n",
    "plt.hist(xTs)"
   ]
  },
  {
   "cell_type": "markdown",
   "metadata": {},
   "source": [
    "### Read sync pulses"
   ]
  },
  {
   "cell_type": "code",
   "execution_count": null,
   "metadata": {},
   "outputs": [],
   "source": [
    "os.path.join(path_ds,'neur',subj,sessName,'dio',sessName + '.dio_MCU_Din1.dat')"
   ]
  },
  {
   "cell_type": "code",
   "execution_count": null,
   "metadata": {},
   "outputs": [],
   "source": [
    "for i in range(1,7):\n",
    "    x = np.fromfile(os.path.join(path_ds,'neur',subj,sessName,'dio',sessName + '.dio_MCU_Din' + str(i) + '.dat'))\n",
    "    plt.plot(x)"
   ]
  },
  {
   "cell_type": "code",
   "execution_count": null,
   "metadata": {},
   "outputs": [],
   "source": [
    "x.shape"
   ]
  },
  {
   "cell_type": "code",
   "execution_count": null,
   "metadata": {},
   "outputs": [],
   "source": [
    "tsSync = np.fromfile(os.path.join(path_ds,'neur',subj,sessName,'dio',sessName + '.dio_MCU_Din1.dat'))\n",
    "plt.plot(tsSync)"
   ]
  },
  {
   "cell_type": "code",
   "execution_count": null,
   "metadata": {},
   "outputs": [],
   "source": [
    "plt.subplot(131), plt.hist(x[0,:])\n",
    "plt.subplot(132), plt.hist(x[1,:])\n",
    "plt.subplot(133), plt.hist(x[2,:])"
   ]
  },
  {
   "cell_type": "code",
   "execution_count": null,
   "metadata": {},
   "outputs": [],
   "source": [
    "z = x[0,:]\n",
    "plt.scatter(range(len(z)),z)"
   ]
  },
  {
   "cell_type": "code",
   "execution_count": null,
   "metadata": {},
   "outputs": [],
   "source": [
    "x.shape\n",
    "hf, ha = plt.subplots(1,np.ma.size(x,2),figsize=(15,9))\n",
    "for i in range(np.ma.size(x,2)):\n",
    "    y = x[:,:,i]\n",
    "    ha[i].plot(np.mean(y,0),color='xkcd:green',alpha=.2)\n",
    "    \n",
    "plt.tight_layout()"
   ]
  },
  {
   "cell_type": "code",
   "execution_count": null,
   "metadata": {},
   "outputs": [],
   "source": [
    "np.mean(y,0)"
   ]
  },
  {
   "cell_type": "code",
   "execution_count": null,
   "metadata": {},
   "outputs": [],
   "source": [
    "np.ma.shape(x)\n",
    "y = x[:,:,0]\n",
    "y.shape"
   ]
  },
  {
   "cell_type": "code",
   "execution_count": 36,
   "metadata": {},
   "outputs": [
    {
     "name": "stdout",
     "output_type": "stream",
     "text": [
      "3.6.4 |Anaconda, Inc.| (default, Mar 12 2018, 20:05:31) \n",
      "[GCC 4.2.1 Compatible Clang 4.0.1 (tags/RELEASE_401/final)]\n"
     ]
    }
   ],
   "source": [
    "import sys\n",
    "print(sys.version)"
   ]
  },
  {
   "cell_type": "code",
   "execution_count": 44,
   "metadata": {},
   "outputs": [],
   "source": [
    "conv = spt.norm.pdf(np.linspace(-10,10,21),0,5)\n",
    "conv = conv/sum(conv)\n",
    "conv = 'Nona'"
   ]
  },
  {
   "cell_type": "code",
   "execution_count": 46,
   "metadata": {},
   "outputs": [
    {
     "name": "stdout",
     "output_type": "stream",
     "text": [
      "not none\n"
     ]
    }
   ],
   "source": [
    "if (type(conv)!=str) or (conv != 'None'):\n",
    "    print('not none')"
   ]
  },
  {
   "cell_type": "code",
   "execution_count": 42,
   "metadata": {},
   "outputs": [
    {
     "data": {
      "text/plain": [
       "[<matplotlib.lines.Line2D at 0x1a26532c50>]"
      ]
     },
     "execution_count": 42,
     "metadata": {},
     "output_type": "execute_result"
    },
    {
     "data": {
      "image/png": "[encoded data removed]",
      "text/plain": [
       "<Figure size 432x288 with 1 Axes>"
      ]
     },
     "metadata": {},
     "output_type": "display_data"
    }
   ],
   "source": [
    "plt.plot(x,conv)"
   ]
  },
  {
   "cell_type": "code",
   "execution_count": 29,
   "metadata": {},
   "outputs": [
    {
     "data": {
      "text/plain": [
       "1.0"
      ]
     },
     "execution_count": 29,
     "metadata": {},
     "output_type": "execute_result"
    }
   ],
   "source": [
    "sum(conv)"
   ]
  }
 ],
 "metadata": {
  "kernelspec": {
   "display_name": "Python [conda env:tasksuite]",
   "language": "python",
   "name": "conda-env-tasksuite-py"
  },
  "language_info": {
   "codemirror_mode": {
    "name": "ipython",
    "version": 3
   },
   "file_extension": ".py",
   "mimetype": "text/x-python",
   "name": "python",
   "nbconvert_exporter": "python",
   "pygments_lexer": "ipython3",
   "version": "3.6.4"
  }
 },
 "nbformat": 4,
 "nbformat_minor": 2
}
